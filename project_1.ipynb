{
 "cells": [
  {
   "cell_type": "markdown",
   "metadata": {},
   "source": [
    "###  in this project we want to take a look at what some algorithms in the field of search do , some of them are uninformed and also some of them are informed and each of them has some advantages over others; and from the begining we can say that informed search algorithms are actually better and faster algorithms cause they use some informations that the others don't use. and also it is good to take a better look at what is the problem:\n",
    "### there are two agents and also there are some foods for them and some walls to , agents can't move together at a time and they can not be in the same room in one time, so at a time just one them can make a move."
   ]
  },
  {
   "cell_type": "markdown",
   "metadata": {},
   "source": [
    "modeling the problem to a search problem:\n",
    "\n",
    "there are some states that makes the state space of our problem \n",
    "each state contains information about the positions of our agents, where are the foods and also what is the parent of this node\n",
    "\n",
    "the initial state here is where we start our search algorithm and expand our nodes \n",
    "\n",
    "the goal state is the state that all the agents have eaten all the foods and there are no more food to be eaten by the agents so we implemented this by checking if there is any food in our map or not\n",
    "\n",
    "actions in this problem are going to left, right, up ro down and also eating the food that is in the room you are if you are supposed to \n"
   ]
  },
  {
   "cell_type": "markdown",
   "metadata": {},
   "source": [
    "first, we have to declare the actions that agents can make and also save positions of the foods and also positions of the agents in the map."
   ]
  },
  {
   "cell_type": "code",
   "execution_count": 1,
   "metadata": {},
   "outputs": [],
   "source": [
    "import queue\n",
    "import copy\n",
    "import collections\n",
    "import time\n",
    "import math\n",
    "directions = [[1, 0], [-1, 0], [0, 1], [0, -1]]\n",
    "y_len = 0\n",
    "x_len = 0\n",
    "wm = list()\n",
    "pf = list()\n",
    "qf = list()\n",
    "bf = list()"
   ]
  },
  {
   "cell_type": "markdown",
   "metadata": {},
   "source": [
    "in this function we traverse each line of the map and gather information about the map (agents, foods and also walls)"
   ]
  },
  {
   "cell_type": "code",
   "execution_count": 18,
   "metadata": {
    "scrolled": true
   },
   "outputs": [],
   "source": [
    "def read_map_line(s, y):\n",
    "    global px\n",
    "    global py\n",
    "    global qx\n",
    "    global qy\n",
    "    l = list()\n",
    "    for x, c in enumerate(s):\n",
    "        if c != '\\n':\n",
    "            l.append(c)\n",
    "            if c == 'P':\n",
    "                px = x\n",
    "                py = y\n",
    "            elif c == 'Q':\n",
    "                qx = x\n",
    "                qy = y\n",
    "            elif c == '1':\n",
    "                pf.append([y, x])\n",
    "            elif c == '2':\n",
    "                qf.append([y, x])\n",
    "            elif c == '3':\n",
    "                bf.append([y, x])\n",
    "    return l"
   ]
  },
  {
   "cell_type": "markdown",
   "metadata": {},
   "source": [
    "in this part we get map from file and traverse it "
   ]
  },
  {
   "cell_type": "code",
   "execution_count": 3,
   "metadata": {
    "scrolled": false
   },
   "outputs": [],
   "source": [
    "wf= open('test1')\n",
    "for index, line in enumerate(wf):\n",
    "    wm.append(read_map_line(line, index))"
   ]
  },
  {
   "cell_type": "markdown",
   "metadata": {},
   "source": [
    "we can model our agents in simple form since they have only X and Y in the map"
   ]
  },
  {
   "cell_type": "code",
   "execution_count": 4,
   "metadata": {},
   "outputs": [],
   "source": [
    "class Agent:\n",
    "    def __init__(self, x, y):\n",
    "        self.x = x\n",
    "        self.y = y\n",
    "    def to_string(self):\n",
    "        return str(self.x) + str(self.y)\n",
    "    def __str__(self):\n",
    "        return str(self.y) + ' ' + str(self.x)"
   ]
  },
  {
   "cell_type": "markdown",
   "metadata": {},
   "source": [
    "through solving the problem we are visiting some nodes in our state space and each of these states is modeled here: \n",
    "in each state we store the position of the agents and also foods that are remained in the map \n",
    "and for checking the algorithm and see what each of the agents has done to reach the goal state we can store the previous state(parent state) and traverse it recursively to print the path that agents covered throught solving the problem"
   ]
  },
  {
   "cell_type": "code",
   "execution_count": 5,
   "metadata": {},
   "outputs": [],
   "source": [
    "class State:\n",
    "    def __init__(self, p, q, pf, qf, bf, parent = None):\n",
    "        self.p = p\n",
    "        self.q = q\n",
    "        self.pf = pf\n",
    "        self.qf = qf\n",
    "        self.bf = bf\n",
    "        self.parent = parent\n",
    "        if parent == None:\n",
    "            self.depth = 0\n",
    "        else: \n",
    "            self.depth = parent.depth + 1\n",
    "    def set_path_cost(self, path_cost):\n",
    "        self.path_cost = path_cost\n",
    "    def to_string(self):\n",
    "        result = ''\n",
    "        result = self.p.to_string() + self.q.to_string()\n",
    "        for food_list in [self.pf, self.qf, self.bf]:\n",
    "            for food in food_list:\n",
    "                result += str(food[0]) + str(food[1])\n",
    "        return result"
   ]
  },
  {
   "cell_type": "markdown",
   "metadata": {},
   "source": [
    "we use heapq to implement the priority queue we require to solve the problem using A* algorithm \n",
    "in this data structure each node has a priority and with each appending in that the whole nodes modify their positions so with each pop you can get the node with most priority with O(1)"
   ]
  },
  {
   "cell_type": "code",
   "execution_count": 6,
   "metadata": {},
   "outputs": [],
   "source": [
    "import heapq\n",
    " \n",
    "class PriorityQueue:\n",
    "    def __init__(self):\n",
    "        self._queue = []\n",
    "        self._index = 0\n",
    "        self.size = 0\n",
    " \n",
    "    def push(self, item, priority):\n",
    "        heapq.heappush(self._queue, (priority, self._index, item))\n",
    "        self._index += 1\n",
    "        self.size += 1\n",
    " \n",
    "    def pop(self):\n",
    "        self.size -= 1\n",
    "        return heapq.heappop(self._queue)[-1]"
   ]
  },
  {
   "cell_type": "markdown",
   "metadata": {},
   "source": [
    "we used some function in all the algorithms that are more related to our state space and states themselves \n",
    "like finding that if a position in the map contains wall, food, other agent or it is empty to go through it\n",
    "also there is a method for considering when we are in the goal state \n",
    "and there is a function to calculate a value for the last algorithm to consider where to go first"
   ]
  },
  {
   "cell_type": "code",
   "execution_count": 7,
   "metadata": {},
   "outputs": [],
   "source": [
    "def is_goal_state(curr_state):\n",
    "    if not len(curr_state.pf) and not len(curr_state.bf) and not len(curr_state.qf):\n",
    "        print(\"goal\")\n",
    "        return True\n",
    "    return False\n",
    "def not_wall(x, y, extra_walls, other_agent):\n",
    "    if [y, x] in extra_walls or wm[y][x] == '%' or [y, x] == [other_agent.y, other_agent.x]:\n",
    "        return False\n",
    "    return True\n",
    "def check_for_food(x, y):\n",
    "    return wm[y][x]\n",
    "def calc_heu(curr_state):\n",
    "    cost = curr_state.path_cost\n",
    "    min_distance = get_min_distance_to_food(curr_state)\n",
    "    return cost + min_distance\n",
    "def get_min_distance_to_food(curr_state):\n",
    "    min_distance = math.inf\n",
    "    for foods in [curr_state.pf, curr_state.bf]:\n",
    "        for food in foods:\n",
    "            if min_distance > (abs(food[0] - curr_state.p.y)) + (abs(food[1] - curr_state.p.x)):\n",
    "                min_distance = (abs(food[0] - curr_state.p.y)) + (abs(food[1] - curr_state.p.x))\n",
    "    for foods in [curr_state.qf, curr_state.bf]:\n",
    "        for food in foods:\n",
    "            if min_distance > (abs(food[0] - curr_state.q.y)) + (abs(food[1] - curr_state.q.x)):\n",
    "                min_distance = (abs(food[0] - curr_state.q.y)) + (abs(food[1] - curr_state.q.x))\n",
    "    return min_distance"
   ]
  },
  {
   "cell_type": "markdown",
   "metadata": {},
   "source": [
    "## BFS"
   ]
  },
  {
   "cell_type": "markdown",
   "metadata": {},
   "source": [
    "Breadth-first search (BFS) is an algorithm for traversing or searching tree or graph data structures. It starts at the tree root (or some arbitrary node of a graph, sometimes referred to as a 'search key'), and explores all of the neighbor nodes at the present depth prior to moving on to the nodes at the next depth level.\n",
    "\n",
    "the time complexity of this algorithm is O(b^d) [b: branchin factor and d: depth of the answer]\n",
    "also the memory it uses is O(b^d)\n",
    "\n",
    "the advantage of using this algorithm is that its complete "
   ]
  },
  {
   "cell_type": "code",
   "execution_count": 8,
   "metadata": {},
   "outputs": [],
   "source": [
    "def bfs_finder(staring_state):\n",
    "    all_states = 0\n",
    "    visited_states = set()\n",
    "    mq = collections.deque()\n",
    "    mq.append(starting_state)\n",
    "    visited_states.add(starting_state.to_string())\n",
    "    all_states += 1\n",
    "    if is_goal_state(starting_state):\n",
    "        print(\"states visited: \", len(visited_states))\n",
    "        print(\"all states visited : \", all_states)\n",
    "        return starting_state\n",
    "    while len(mq):\n",
    "        curr_state = mq.popleft()\n",
    "        for d in directions:\n",
    "            new_px = curr_state.p.x + d[0] \n",
    "            new_py = curr_state.p.y + d[1]\n",
    "            if not_wall(new_px, new_py, curr_state.qf, curr_state.q):\n",
    "                new_p = Agent(new_px, new_py)\n",
    "                new_q = Agent(curr_state.q.x, curr_state.q.y)\n",
    "                new_pf = copy.deepcopy(curr_state.pf)\n",
    "                new_qf = copy.deepcopy(curr_state.qf)\n",
    "                new_bf = copy.deepcopy(curr_state.bf)\n",
    "                food = check_for_food(new_px, new_py)\n",
    "                if food == '1':\n",
    "                    new_pf = [x for x in new_pf if x not in [[new_py, new_px]]]\n",
    "                elif food == '3':\n",
    "                    new_bf = [x for x in new_bf if x not in [[new_py, new_px]]]\n",
    "                new_state = State(new_p, new_q, new_pf, new_qf, new_bf, curr_state)\n",
    "                all_states += 1\n",
    "                if new_state.to_string() not in visited_states:\n",
    "                    if is_goal_state(new_state):\n",
    "                        print(\"all states visited : \", all_states)\n",
    "                        print(\"states visited: \", len(visited_states))\n",
    "                        return new_state\n",
    "                    else:\n",
    "                        mq.append(new_state)\n",
    "                        visited_states.add(new_state.to_string())\n",
    "            new_qx = curr_state.q.x + d[0] \n",
    "            new_qy = curr_state.q.y + d[1]\n",
    "            if not_wall(new_qx, new_qy, curr_state.pf, curr_state.p):\n",
    "                new_q = Agent(new_qx, new_qy)\n",
    "                new_p = Agent(curr_state.p.x, curr_state.p.y)\n",
    "                new_pf = copy.deepcopy(curr_state.pf)\n",
    "                new_qf = copy.deepcopy(curr_state.qf)\n",
    "                new_bf = copy.deepcopy(curr_state.bf)\n",
    "                food = check_for_food(new_qx, new_qy)\n",
    "                if food == '2':\n",
    "                    new_qf = [x for x in new_qf if x not in [[new_qy, new_qx]]]\n",
    "                elif food == '3':\n",
    "                    new_bf = [x for x in new_bf if x not in [[new_qy, new_qx]]]\n",
    "                new_state = State(new_p, new_q, new_pf, new_qf, new_bf, curr_state)\n",
    "                all_states += 1\n",
    "                if new_state.to_string() not in visited_states:\n",
    "                    if is_goal_state(new_state):\n",
    "                        print(\"states visited: \", len(visited_states))\n",
    "                        print(\"all states visited : \", all_states)\n",
    "                        return new_state\n",
    "                    else:\n",
    "                        mq.append(new_state)\n",
    "                        visited_states.add(new_state.to_string())"
   ]
  },
  {
   "cell_type": "markdown",
   "metadata": {},
   "source": [
    "# printing the path that agent has covered recursively"
   ]
  },
  {
   "cell_type": "code",
   "execution_count": 9,
   "metadata": {},
   "outputs": [],
   "source": [
    "def print_path(temp):\n",
    "    if temp.parent == None:\n",
    "        return \n",
    "    print_path(temp.parent)\n",
    "    print(temp.p)\n",
    "def print_ans_depth(temp, depth = 0):\n",
    "    if temp.parent == None:\n",
    "        print(\"answer found in depth: \", depth)\n",
    "        return\n",
    "    print_ans_depth(temp.parent, depth + 1)"
   ]
  },
  {
   "cell_type": "code",
   "execution_count": 10,
   "metadata": {},
   "outputs": [],
   "source": [
    "p = Agent(px, py)\n",
    "q = Agent(qx, qy)\n",
    "starting_state = State(p, q, pf, qf, bf)"
   ]
  },
  {
   "cell_type": "code",
   "execution_count": 11,
   "metadata": {},
   "outputs": [
    {
     "name": "stdout",
     "output_type": "stream",
     "text": [
      "goal\n",
      "states visited:  149595\n",
      "all states visited :  683979\n"
     ]
    }
   ],
   "source": [
    "result_time = 0\n",
    "# for i in range(3):\n",
    "start = time.time()\n",
    "final_state = bfs_finder(starting_state)\n",
    "end = time.time()\n",
    "result_time += end - start\n",
    "#     \n",
    "# print_ans_depth(final_state)\n",
    "# print(\" -- averaged -- finished in :\", result_time/3)"
   ]
  },
  {
   "cell_type": "markdown",
   "metadata": {},
   "source": [
    "| test | unique  states | all states| ans depth |          time            |\n",
    "|------|----------------|-----------|-----------|--------------------------|\n",
    "|   5  |       346      |    1057   |     13    |   0.026863574981689453   |\n",
    "|   1  |     149595     |  683979   |     33    |     12.62480624516805    |\n",
    "|   2  |      3621      |    15343  |     17    |     0.23904895782470703  |\n",
    "|   3  |      2538      |    9782   |     20    |   0.14844401677449545    |\n",
    "|   4  |     10497      |    46533  |     17    |   0.7891270319620768     |"
   ]
  },
  {
   "cell_type": "code",
   "execution_count": 22,
   "metadata": {},
   "outputs": [
    {
     "data": {
      "image/png": "[encoded data removed]",
      "text/plain": [
       "<Figure size 432x288 with 1 Axes>"
      ]
     },
     "metadata": {
      "needs_background": "light"
     },
     "output_type": "display_data"
    }
   ],
   "source": [
    "from matplotlib import pyplot as plt \n",
    "x = [13, 17, 17, 20, 33]\n",
    "y = [0.026863574981689453, 0.23904895782470703, 0.7891270319620768, 0.14844401677449545, 12.62480624516805]\n",
    "plt.plot(x,y) \n",
    "plt.show()"
   ]
  },
  {
   "cell_type": "markdown",
   "metadata": {},
   "source": [
    "##  IDS"
   ]
  },
  {
   "cell_type": "markdown",
   "metadata": {},
   "source": [
    "IDDFS combines depth-first search’s space-efficiency and breadth-first search’s fast search (for nodes closer to root).\n",
    "\n",
    "IDDFS calls DFS for different depths starting from an initial value. In every call, DFS is restricted from going beyond given depth. So basically we do DFS in a BFS fashion.\n",
    "\n",
    "the time complexity of this algorithm is O(b^d) cause it acts like BFS and traverse by the depth that we give to it .\n",
    "but the advantage of this algorithm is its memory that is use O(bd) since we store nodes that goes in the maximum depth in the state space"
   ]
  },
  {
   "cell_type": "code",
   "execution_count": 12,
   "metadata": {},
   "outputs": [],
   "source": [
    "def ids(curr_state, depth, visited):\n",
    "    global all_states\n",
    "    visited.add((curr_state.to_string(), curr_state.depth))\n",
    "    if is_goal_state(curr_state):\n",
    "        print(\"states visited : \", len(visited))\n",
    "        print(\"all states visited : \", all_states)\n",
    "        return curr_state\n",
    "    if depth == 0:\n",
    "        return None\n",
    "    for d in directions:\n",
    "        new_px = curr_state.p.x + d[0]\n",
    "        new_py = curr_state.p.y + d[1]\n",
    "        if not_wall(new_px, new_py, curr_state.qf, curr_state.q):\n",
    "            new_p = Agent(new_px, new_py)\n",
    "            new_q = Agent(curr_state.q.x, curr_state.q.y)\n",
    "            new_pf = copy.deepcopy(curr_state.pf)\n",
    "            new_qf = copy.deepcopy(curr_state.qf)\n",
    "            new_bf = copy.deepcopy(curr_state.bf)\n",
    "            food = check_for_food(new_px, new_py)\n",
    "            if food == '1':\n",
    "                new_pf = [x for x in new_pf if x not in [[new_py, new_px]]]\n",
    "            elif food == '3':\n",
    "                new_bf = [x for x in new_bf if x not in [[new_py, new_px]]]\n",
    "            new_state = State(new_p, new_q, new_pf, new_qf, new_bf, curr_state)\n",
    "            all_states += 1\n",
    "            if (new_state.to_string(), new_state.depth) not in visited:\n",
    "                result = ids(new_state, depth - 1, visited)\n",
    "                if result != None:\n",
    "                    return result\n",
    "        new_qx = curr_state.q.x + d[0]\n",
    "        new_qy = curr_state.q.y + d[1]\n",
    "        if not_wall(new_qx, new_qy, curr_state.pf, curr_state.p):\n",
    "            new_q = Agent(new_qx, new_qy)\n",
    "            new_p = Agent(curr_state.p.x, curr_state.p.y)\n",
    "            new_pf = copy.deepcopy(curr_state.pf)\n",
    "            new_qf = copy.deepcopy(curr_state.qf)\n",
    "            new_bf = copy.deepcopy(curr_state.bf)\n",
    "            food = check_for_food(new_qx, new_qy)\n",
    "            if food == '2':\n",
    "                new_qf = [x for x in new_qf if x not in [[new_qy, new_qx]]]\n",
    "            elif food == '3':\n",
    "                new_bf = [x for x in new_bf if x not in [[new_qy, new_qx]]]\n",
    "            new_state = State(new_p, new_q, new_pf, new_qf, new_bf, curr_state)\n",
    "            all_states += 1\n",
    "            if (new_state.to_string(), new_state.depth) not in visited:\n",
    "                result = ids(new_state, depth - 1, visited)\n",
    "                if result != None:\n",
    "                    return result"
   ]
  },
  {
   "cell_type": "code",
   "execution_count": 13,
   "metadata": {
    "scrolled": true
   },
   "outputs": [
    {
     "name": "stdout",
     "output_type": "stream",
     "text": [
      "0\n",
      "1\n",
      "2\n",
      "3\n",
      "4\n",
      "5\n",
      "6\n",
      "7\n",
      "8\n",
      "9\n",
      "10\n",
      "11\n",
      "12\n",
      "13\n",
      "14\n",
      "15\n",
      "16\n",
      "17\n",
      "18\n",
      "19\n",
      "20\n",
      "21\n",
      "22\n",
      "23\n",
      "24\n",
      "25\n",
      "26\n",
      "27\n",
      "28\n",
      "29\n",
      "30\n",
      "31\n",
      "32\n",
      "33\n",
      "goal\n",
      "states visited :  681560\n",
      "all states visited :  20982854\n"
     ]
    }
   ],
   "source": [
    "all_states = 0\n",
    "time_result = 0\n",
    "# for i in range(3):\n",
    "depth = 0\n",
    "start = time.time()\n",
    "while True:\n",
    "    visited = set()\n",
    "#     print(depth)\n",
    "    final_state = ids(starting_state, depth, visited)\n",
    "    if final_state != None:\n",
    "        end = time.time()\n",
    "        time_result += end - start\n",
    "        break\n",
    "    depth += 1\n",
    "#         \n",
    "# print_ans_depth(final_state)\n",
    "# print(\" -- averaged -- finished in :\", time_result/3)"
   ]
  },
  {
   "cell_type": "markdown",
   "metadata": {},
   "source": [
    "| test | unique  states | all states| ans depth |          time            |\n",
    "|------|----------------|-----------|-----------|--------------------------|\n",
    "|   5  |       722      |   10504   |    13     |   0.21237913767496744    |\n",
    "|   1  |     681560     |  2098285  |    33     |     373.475124279658     |\n",
    "|   2  |       8914     |   149352  |    17     |    2.4801674683888755    |\n",
    "|   3  |      3745      |  158316   |    20     |     2.6865471998850503   |\n",
    "|   4  |     17407      |   389499  |    17     |    5.716907183329265     |"
   ]
  },
  {
   "cell_type": "code",
   "execution_count": 23,
   "metadata": {},
   "outputs": [
    {
     "data": {
      "image/png": "[encoded data removed]",
      "text/plain": [
       "<Figure size 432x288 with 1 Axes>"
      ]
     },
     "metadata": {
      "needs_background": "light"
     },
     "output_type": "display_data"
    }
   ],
   "source": [
    "from matplotlib import pyplot as plt \n",
    "x = [13, 17, 17, 20, 33]\n",
    "y = [0.21237913767496744, 2.4801674683888755, 5.716907183329265, 2.6865471998850503, 373.475124279658]\n",
    "plt.plot(x,y) \n",
    "plt.show()"
   ]
  },
  {
   "cell_type": "markdown",
   "metadata": {},
   "source": [
    "## A*"
   ]
  },
  {
   "cell_type": "markdown",
   "metadata": {},
   "source": [
    "A* is like Dijkstra’s Algorithm in that it can be used to find a shortest path. A* is like Greedy Best-First-Search in that it can use a heuristic to guide itself\n",
    "\n",
    "The secret to its success is that it combines the pieces of information that Dijkstra’s Algorithm uses (favoring vertices that are close to the starting point) and information that Greedy Best-First-Search uses (favoring vertices that are close to the goal).\n",
    "\n",
    "we can not talk about its time complexity and memori it uses cause its related to the heuristic we choose and also how agents act through running the algorithm\n",
    "\n"
   ]
  },
  {
   "cell_type": "markdown",
   "metadata": {},
   "source": [
    "##### Heuristic"
   ]
  },
  {
   "cell_type": "markdown",
   "metadata": {},
   "source": [
    "the heuristic we use here is similar to manhattan distance and this is because in this problem you can go in four direction in each action \n",
    "for each node we define the heuristic in this way that we get the minimum distance to nearest food for two of the agents. (minimum of all these distances for all the foods that agents can eat)"
   ]
  },
  {
   "cell_type": "code",
   "execution_count": 14,
   "metadata": {},
   "outputs": [],
   "source": [
    "def a_star_finder(starting_state):\n",
    "    all_states = 0\n",
    "    visited = set()\n",
    "    pq = PriorityQueue()\n",
    "    visited.add(starting_state.to_string())\n",
    "    if is_goal_state(starting_state):\n",
    "        print(\"all states visited : \", all_states)\n",
    "        return starting_state\n",
    "    pq.push(starting_state, calc_heu(starting_state))\n",
    "    while pq.size:\n",
    "        curr_state = pq.pop()\n",
    "        for d in directions:\n",
    "            new_px = curr_state.p.x + d[0]\n",
    "            new_py = curr_state.p.y + d[1]\n",
    "            if not_wall(new_px, new_py, curr_state.qf, curr_state.q):\n",
    "                new_p = Agent(new_px, new_py)\n",
    "                new_q = Agent(curr_state.q.x, curr_state.q.y)\n",
    "                new_pf = copy.deepcopy(curr_state.pf)\n",
    "                new_qf = copy.deepcopy(curr_state.qf)\n",
    "                new_bf = copy.deepcopy(curr_state.bf)\n",
    "                food = check_for_food(new_px, new_py)\n",
    "                if food == '1':\n",
    "                    new_pf = [x for x in new_pf if x not in [[new_py, new_px]]]\n",
    "                elif food == '3':\n",
    "                    new_bf = [x for x in new_bf if x not in [[new_py, new_px]]]\n",
    "                new_state = State(new_p, new_q, new_pf, new_qf, new_bf, curr_state)\n",
    "                new_state.set_path_cost(curr_state.path_cost + 1)\n",
    "                all_states += 1\n",
    "                if new_state.to_string() not in visited:\n",
    "                    if is_goal_state(new_state):\n",
    "                        print(len(visited))\n",
    "                        print(\"all states visited : \", all_states)\n",
    "                        return new_state\n",
    "                    pq.push(new_state, calc_heu(new_state))\n",
    "                    visited.add(new_state.to_string())\n",
    "            new_qx = curr_state.q.x + d[0]\n",
    "            new_qy = curr_state.q.y + d[1]\n",
    "            if not_wall(new_qx, new_qy, curr_state.pf, curr_state.p):\n",
    "                new_q = Agent(new_qx, new_qy)\n",
    "                new_p = Agent(curr_state.p.x, curr_state.p.y)\n",
    "                new_pf = copy.deepcopy(curr_state.pf)\n",
    "                new_qf = copy.deepcopy(curr_state.qf)\n",
    "                new_bf = copy.deepcopy(curr_state.bf)\n",
    "                food = check_for_food(new_qx, new_qy)\n",
    "                if food == '2':\n",
    "                    new_qf = [x for x in new_qf if x not in [[new_qy, new_qx]]]\n",
    "                elif food == '3':\n",
    "                    new_bf = [x for x in new_bf if x not in [[new_qy, new_qx]]]\n",
    "                new_state = State(new_p, new_q, new_pf, new_qf, new_bf, curr_state)\n",
    "                new_state.set_path_cost(curr_state.path_cost + 1)\n",
    "                all_states += 1\n",
    "                if new_state.to_string() not in visited:\n",
    "                    if is_goal_state(new_state):\n",
    "                        print(len(visited))\n",
    "                        print(\"all states visited : \", all_states)\n",
    "                        return new_state\n",
    "                    pq.push(new_state, calc_heu(new_state))\n",
    "                    visited.add(new_state.to_string())"
   ]
  },
  {
   "cell_type": "code",
   "execution_count": 15,
   "metadata": {
    "scrolled": true
   },
   "outputs": [
    {
     "name": "stdout",
     "output_type": "stream",
     "text": [
      "goal\n",
      "126505\n",
      "all states visited :  545292\n",
      "answer found in depth:  33\n"
     ]
    }
   ],
   "source": [
    "result_time = 0\n",
    "# for i in range(3):\n",
    "start = time.time()\n",
    "starting_state.set_path_cost(0)\n",
    "result = a_star_finder(starting_state)\n",
    "print_ans_depth(result)\n",
    "end = time.time()\n",
    "result_time += end - start\n",
    "# print(\"finished in : \", result_time / 3)"
   ]
  },
  {
   "cell_type": "markdown",
   "metadata": {},
   "source": [
    "| test | visited states | all states| ans depth |          time            |\n",
    "|------|----------------|-----------|-----------|--------------------------|\n",
    "|   5  |       278      |    816    |     13    |   0.21237913767496744    |\n",
    "|   1  |      126505    |   545292  |     33    |   12.444507678349813     |\n",
    "|   2  |      2917      |    11221  |     17    |   0.20180058479309082    |\n",
    "|   3  |      1996      |    6829   |     20    |   0.11298147837320964    |\n",
    "|   4  |      5591      |   21209   |     17    |   0.3690911928812663     |"
   ]
  },
  {
   "cell_type": "code",
   "execution_count": 24,
   "metadata": {},
   "outputs": [
    {
     "data": {
      "image/png": "[encoded data removed]",
      "text/plain": [
       "<Figure size 432x288 with 1 Axes>"
      ]
     },
     "metadata": {
      "needs_background": "light"
     },
     "output_type": "display_data"
    }
   ],
   "source": [
    "from matplotlib import pyplot as plt \n",
    "x = [13, 17, 17, 20, 33]\n",
    "y = [0.21237913767496744, 0.20180058479309082, 0.3690911928812663, 0.11298147837320964, 12.444507678349813]\n",
    "plt.plot(x,y) \n",
    "plt.show()"
   ]
  }
 ],
 "metadata": {
  "kernelspec": {
   "display_name": "Python 3",
   "language": "python",
   "name": "python3"
  },
  "language_info": {
   "codemirror_mode": {
    "name": "ipython",
    "version": 3
   },
   "file_extension": ".py",
   "mimetype": "text/x-python",
   "name": "python",
   "nbconvert_exporter": "python",
   "pygments_lexer": "ipython3",
   "version": "3.7.4"
  }
 },
 "nbformat": 4,
 "nbformat_minor": 2
}
